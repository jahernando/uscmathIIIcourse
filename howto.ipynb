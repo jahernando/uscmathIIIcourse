{
 "cells": [
  {
   "cell_type": "markdown",
   "metadata": {},
   "source": [
    "## how to get the repository and how to update it"
   ]
  },
  {
   "cell_type": "markdown",
   "metadata": {},
   "source": [
    "\n",
    "Open a console. Check that you have installed git\n",
    "\n",
    "$ git --version\n",
    "\n",
    "In principle in Mac and Linux OS, git should be installed. \n",
    "Mac OS can ask you to install Xcode, do so! If you do not have git in your OS, you need to installed. \n",
    "\n",
    "You can clone now the repository:\n",
    "\n",
    "$ git clone https://github.com/jahernando/uscmathcourse.git\n",
    "\n",
    "\n",
    "If you already downloaded the repository, you can get the lastest update:\n",
    "\n",
    "$ git pull origin master "
   ]
  },
  {
   "cell_type": "markdown",
   "metadata": {},
   "source": [
    "### how to open a Jupyter notebook\n",
    "\n",
    "first, install anaconda in you OS https://www.continuum.io/downloads\n",
    "\n",
    "execute in the console\n",
    "$ jupyter notebook\n",
    "\n",
    "it shows the home directory in your browser, navigate them, open the notebooks."
   ]
  },
  {
   "cell_type": "markdown",
   "metadata": {},
   "source": [
    "### how to run a notebook\n",
    "\n",
    "To run a notebook, click \"play >|\" in the menu on top of the page in the browser."
   ]
  }
 ],
 "metadata": {
  "anaconda-cloud": {},
  "kernelspec": {
   "display_name": "Python 3",
   "language": "python",
   "name": "python3"
  },
  "language_info": {
   "codemirror_mode": {
    "name": "ipython",
    "version": 3
   },
   "file_extension": ".py",
   "mimetype": "text/x-python",
   "name": "python",
   "nbconvert_exporter": "python",
   "pygments_lexer": "ipython3",
   "version": "3.6.1"
  }
 },
 "nbformat": 4,
 "nbformat_minor": 1
}
